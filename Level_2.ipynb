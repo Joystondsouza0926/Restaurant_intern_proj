{
 "cells": [
  {
   "cell_type": "code",
   "execution_count": 68,
   "id": "cc22338e",
   "metadata": {},
   "outputs": [],
   "source": [
    "import pandas as  pd\n",
    "import numpy as np\n",
    "import folium\n",
    "from sklearn.cluster import DBSCAN\n",
    "import matplotlib.pyplot as plt\n",
    "import seaborn as sns"
   ]
  },
  {
   "cell_type": "code",
   "execution_count": 69,
   "id": "239a4edb",
   "metadata": {},
   "outputs": [
    {
     "data": {
      "text/html": [
       "<div>\n",
       "<style scoped>\n",
       "    .dataframe tbody tr th:only-of-type {\n",
       "        vertical-align: middle;\n",
       "    }\n",
       "\n",
       "    .dataframe tbody tr th {\n",
       "        vertical-align: top;\n",
       "    }\n",
       "\n",
       "    .dataframe thead th {\n",
       "        text-align: right;\n",
       "    }\n",
       "</style>\n",
       "<table border=\"1\" class=\"dataframe\">\n",
       "  <thead>\n",
       "    <tr style=\"text-align: right;\">\n",
       "      <th></th>\n",
       "      <th>Restaurant ID</th>\n",
       "      <th>Restaurant Name</th>\n",
       "      <th>Country Code</th>\n",
       "      <th>City</th>\n",
       "      <th>Address</th>\n",
       "      <th>Locality</th>\n",
       "      <th>Locality Verbose</th>\n",
       "      <th>Longitude</th>\n",
       "      <th>Latitude</th>\n",
       "      <th>Cuisines</th>\n",
       "      <th>...</th>\n",
       "      <th>Currency</th>\n",
       "      <th>Has Table booking</th>\n",
       "      <th>Has Online delivery</th>\n",
       "      <th>Is delivering now</th>\n",
       "      <th>Switch to order menu</th>\n",
       "      <th>Price range</th>\n",
       "      <th>Aggregate rating</th>\n",
       "      <th>Rating color</th>\n",
       "      <th>Rating text</th>\n",
       "      <th>Votes</th>\n",
       "    </tr>\n",
       "  </thead>\n",
       "  <tbody>\n",
       "    <tr>\n",
       "      <th>0</th>\n",
       "      <td>6317637</td>\n",
       "      <td>Le Petit Souffle</td>\n",
       "      <td>162</td>\n",
       "      <td>Makati City</td>\n",
       "      <td>Third Floor, Century City Mall, Kalayaan Avenu...</td>\n",
       "      <td>Century City Mall, Poblacion, Makati City</td>\n",
       "      <td>Century City Mall, Poblacion, Makati City, Mak...</td>\n",
       "      <td>121.027535</td>\n",
       "      <td>14.565443</td>\n",
       "      <td>French, Japanese, Desserts</td>\n",
       "      <td>...</td>\n",
       "      <td>Botswana Pula(P)</td>\n",
       "      <td>Yes</td>\n",
       "      <td>No</td>\n",
       "      <td>No</td>\n",
       "      <td>No</td>\n",
       "      <td>3</td>\n",
       "      <td>4.8</td>\n",
       "      <td>Dark Green</td>\n",
       "      <td>Excellent</td>\n",
       "      <td>314</td>\n",
       "    </tr>\n",
       "    <tr>\n",
       "      <th>1</th>\n",
       "      <td>6304287</td>\n",
       "      <td>Izakaya Kikufuji</td>\n",
       "      <td>162</td>\n",
       "      <td>Makati City</td>\n",
       "      <td>Little Tokyo, 2277 Chino Roces Avenue, Legaspi...</td>\n",
       "      <td>Little Tokyo, Legaspi Village, Makati City</td>\n",
       "      <td>Little Tokyo, Legaspi Village, Makati City, Ma...</td>\n",
       "      <td>121.014101</td>\n",
       "      <td>14.553708</td>\n",
       "      <td>Japanese</td>\n",
       "      <td>...</td>\n",
       "      <td>Botswana Pula(P)</td>\n",
       "      <td>Yes</td>\n",
       "      <td>No</td>\n",
       "      <td>No</td>\n",
       "      <td>No</td>\n",
       "      <td>3</td>\n",
       "      <td>4.5</td>\n",
       "      <td>Dark Green</td>\n",
       "      <td>Excellent</td>\n",
       "      <td>591</td>\n",
       "    </tr>\n",
       "    <tr>\n",
       "      <th>2</th>\n",
       "      <td>6300002</td>\n",
       "      <td>Heat - Edsa Shangri-La</td>\n",
       "      <td>162</td>\n",
       "      <td>Mandaluyong City</td>\n",
       "      <td>Edsa Shangri-La, 1 Garden Way, Ortigas, Mandal...</td>\n",
       "      <td>Edsa Shangri-La, Ortigas, Mandaluyong City</td>\n",
       "      <td>Edsa Shangri-La, Ortigas, Mandaluyong City, Ma...</td>\n",
       "      <td>121.056831</td>\n",
       "      <td>14.581404</td>\n",
       "      <td>Seafood, Asian, Filipino, Indian</td>\n",
       "      <td>...</td>\n",
       "      <td>Botswana Pula(P)</td>\n",
       "      <td>Yes</td>\n",
       "      <td>No</td>\n",
       "      <td>No</td>\n",
       "      <td>No</td>\n",
       "      <td>4</td>\n",
       "      <td>4.4</td>\n",
       "      <td>Green</td>\n",
       "      <td>Very Good</td>\n",
       "      <td>270</td>\n",
       "    </tr>\n",
       "    <tr>\n",
       "      <th>3</th>\n",
       "      <td>6318506</td>\n",
       "      <td>Ooma</td>\n",
       "      <td>162</td>\n",
       "      <td>Mandaluyong City</td>\n",
       "      <td>Third Floor, Mega Fashion Hall, SM Megamall, O...</td>\n",
       "      <td>SM Megamall, Ortigas, Mandaluyong City</td>\n",
       "      <td>SM Megamall, Ortigas, Mandaluyong City, Mandal...</td>\n",
       "      <td>121.056475</td>\n",
       "      <td>14.585318</td>\n",
       "      <td>Japanese, Sushi</td>\n",
       "      <td>...</td>\n",
       "      <td>Botswana Pula(P)</td>\n",
       "      <td>No</td>\n",
       "      <td>No</td>\n",
       "      <td>No</td>\n",
       "      <td>No</td>\n",
       "      <td>4</td>\n",
       "      <td>4.9</td>\n",
       "      <td>Dark Green</td>\n",
       "      <td>Excellent</td>\n",
       "      <td>365</td>\n",
       "    </tr>\n",
       "    <tr>\n",
       "      <th>4</th>\n",
       "      <td>6314302</td>\n",
       "      <td>Sambo Kojin</td>\n",
       "      <td>162</td>\n",
       "      <td>Mandaluyong City</td>\n",
       "      <td>Third Floor, Mega Atrium, SM Megamall, Ortigas...</td>\n",
       "      <td>SM Megamall, Ortigas, Mandaluyong City</td>\n",
       "      <td>SM Megamall, Ortigas, Mandaluyong City, Mandal...</td>\n",
       "      <td>121.057508</td>\n",
       "      <td>14.584450</td>\n",
       "      <td>Japanese, Korean</td>\n",
       "      <td>...</td>\n",
       "      <td>Botswana Pula(P)</td>\n",
       "      <td>Yes</td>\n",
       "      <td>No</td>\n",
       "      <td>No</td>\n",
       "      <td>No</td>\n",
       "      <td>4</td>\n",
       "      <td>4.8</td>\n",
       "      <td>Dark Green</td>\n",
       "      <td>Excellent</td>\n",
       "      <td>229</td>\n",
       "    </tr>\n",
       "  </tbody>\n",
       "</table>\n",
       "<p>5 rows × 21 columns</p>\n",
       "</div>"
      ],
      "text/plain": [
       "   Restaurant ID         Restaurant Name  Country Code              City  \\\n",
       "0        6317637        Le Petit Souffle           162       Makati City   \n",
       "1        6304287        Izakaya Kikufuji           162       Makati City   \n",
       "2        6300002  Heat - Edsa Shangri-La           162  Mandaluyong City   \n",
       "3        6318506                    Ooma           162  Mandaluyong City   \n",
       "4        6314302             Sambo Kojin           162  Mandaluyong City   \n",
       "\n",
       "                                             Address  \\\n",
       "0  Third Floor, Century City Mall, Kalayaan Avenu...   \n",
       "1  Little Tokyo, 2277 Chino Roces Avenue, Legaspi...   \n",
       "2  Edsa Shangri-La, 1 Garden Way, Ortigas, Mandal...   \n",
       "3  Third Floor, Mega Fashion Hall, SM Megamall, O...   \n",
       "4  Third Floor, Mega Atrium, SM Megamall, Ortigas...   \n",
       "\n",
       "                                     Locality  \\\n",
       "0   Century City Mall, Poblacion, Makati City   \n",
       "1  Little Tokyo, Legaspi Village, Makati City   \n",
       "2  Edsa Shangri-La, Ortigas, Mandaluyong City   \n",
       "3      SM Megamall, Ortigas, Mandaluyong City   \n",
       "4      SM Megamall, Ortigas, Mandaluyong City   \n",
       "\n",
       "                                    Locality Verbose   Longitude   Latitude  \\\n",
       "0  Century City Mall, Poblacion, Makati City, Mak...  121.027535  14.565443   \n",
       "1  Little Tokyo, Legaspi Village, Makati City, Ma...  121.014101  14.553708   \n",
       "2  Edsa Shangri-La, Ortigas, Mandaluyong City, Ma...  121.056831  14.581404   \n",
       "3  SM Megamall, Ortigas, Mandaluyong City, Mandal...  121.056475  14.585318   \n",
       "4  SM Megamall, Ortigas, Mandaluyong City, Mandal...  121.057508  14.584450   \n",
       "\n",
       "                           Cuisines  ...          Currency Has Table booking  \\\n",
       "0        French, Japanese, Desserts  ...  Botswana Pula(P)               Yes   \n",
       "1                          Japanese  ...  Botswana Pula(P)               Yes   \n",
       "2  Seafood, Asian, Filipino, Indian  ...  Botswana Pula(P)               Yes   \n",
       "3                   Japanese, Sushi  ...  Botswana Pula(P)                No   \n",
       "4                  Japanese, Korean  ...  Botswana Pula(P)               Yes   \n",
       "\n",
       "  Has Online delivery Is delivering now Switch to order menu Price range  \\\n",
       "0                  No                No                   No           3   \n",
       "1                  No                No                   No           3   \n",
       "2                  No                No                   No           4   \n",
       "3                  No                No                   No           4   \n",
       "4                  No                No                   No           4   \n",
       "\n",
       "   Aggregate rating  Rating color Rating text Votes  \n",
       "0               4.8    Dark Green   Excellent   314  \n",
       "1               4.5    Dark Green   Excellent   591  \n",
       "2               4.4         Green   Very Good   270  \n",
       "3               4.9    Dark Green   Excellent   365  \n",
       "4               4.8    Dark Green   Excellent   229  \n",
       "\n",
       "[5 rows x 21 columns]"
      ]
     },
     "execution_count": 69,
     "metadata": {},
     "output_type": "execute_result"
    }
   ],
   "source": [
    "df=pd.read_csv(\"Dataset .csv\") \n",
    "df.head()   "
   ]
  },
  {
   "cell_type": "markdown",
   "id": "d31b3cbf",
   "metadata": {},
   "source": [
    "# Level 2"
   ]
  },
  {
   "cell_type": "markdown",
   "id": "e78e9ffb",
   "metadata": {},
   "source": [
    "# Task 1: Restaurant Ratings"
   ]
  },
  {
   "cell_type": "markdown",
   "id": "b9fd0d53",
   "metadata": {},
   "source": [
    "# Analyze the distribution of aggregate ratings and determine the most common rating range."
   ]
  },
  {
   "cell_type": "code",
   "execution_count": 70,
   "id": "d475ff47",
   "metadata": {},
   "outputs": [],
   "source": [
    "rating_col = \"Aggregate rating\"\n",
    "votes_col = \"Votes\""
   ]
  },
  {
   "cell_type": "code",
   "execution_count": null,
   "id": "47cc284b",
   "metadata": {},
   "outputs": [],
   "source": [
    "df_clean = df.dropna(subset=[rating_col, votes_col])"
   ]
  },
  {
   "cell_type": "code",
   "execution_count": 72,
   "id": "da605702",
   "metadata": {},
   "outputs": [],
   "source": [
    "# Step 1: Create bins for rating ranges\n",
    "bins = [0, 1, 2, 3, 4, 5]\n",
    "labels = ['0–1', '1–2', '2–3', '3–4', '4–5']\n",
    "df_clean['Rating Range'] = pd.cut(df_clean[rating_col], bins=bins, labels=labels, include_lowest=True)"
   ]
  },
  {
   "cell_type": "code",
   "execution_count": 73,
   "id": "df496b48",
   "metadata": {},
   "outputs": [],
   "source": [
    "# Count rating ranges\n",
    "rating_range_counts = df_clean['Rating Range'].value_counts().sort_index()"
   ]
  },
  {
   "cell_type": "code",
   "execution_count": 74,
   "id": "01cf17b2",
   "metadata": {},
   "outputs": [],
   "source": [
    "# Find the most common rating range\n",
    "most_common_range = rating_range_counts.idxmax()\n",
    "most_common_count = rating_range_counts.max()"
   ]
  },
  {
   "cell_type": "code",
   "execution_count": null,
   "id": "18d8c6a5",
   "metadata": {},
   "outputs": [
    {
     "name": "stdout",
     "output_type": "stream",
     "text": [
      "Distribution of Rating Ranges:\n",
      "Rating Range\n",
      "0–1    2148\n",
      "1–2      10\n",
      "2–3    1891\n",
      "3–4    4388\n",
      "4–5    1114\n",
      "Name: count, dtype: int64\n",
      "\n",
      "Most Common Rating Range: 3–4 (4388 restaurants)\n"
     ]
    }
   ],
   "source": [
    "print(\"Distribution of Rating Ranges:\")\n",
    "print(rating_range_counts)\n",
    "print(f\"\\nMost Common Rating Range: {most_common_range} ({most_common_count} restaurants)\")"
   ]
  },
  {
   "cell_type": "markdown",
   "id": "cd6accd7",
   "metadata": {},
   "source": [
    "# Calculate the average number of votes received by restaurants."
   ]
  },
  {
   "cell_type": "code",
   "execution_count": 76,
   "id": "e64e7ae5",
   "metadata": {},
   "outputs": [
    {
     "name": "stdout",
     "output_type": "stream",
     "text": [
      "\n",
      "Average Number of Votes: 156.91\n"
     ]
    }
   ],
   "source": [
    "avg_votes = df_clean[votes_col].mean()\n",
    "print(f\"\\nAverage Number of Votes: {avg_votes:.2f}\")"
   ]
  },
  {
   "cell_type": "code",
   "execution_count": 77,
   "id": "1bbe33e0",
   "metadata": {},
   "outputs": [
    {
     "data": {
      "image/png": "[encoded data removed]",
      "text/plain": [
       "<Figure size 800x500 with 1 Axes>"
      ]
     },
     "metadata": {},
     "output_type": "display_data"
    }
   ],
   "source": [
    "# Plot rating range distribution\n",
    "plt.figure(figsize=(8, 5))\n",
    "rating_range_counts.plot(kind='bar', color='coral')\n",
    "plt.title('Distribution of Aggregate Rating Ranges')\n",
    "plt.xlabel('Rating Range')\n",
    "plt.ylabel('Number of Restaurants')\n",
    "plt.grid(axis='y', linestyle='--', alpha=0.7)\n",
    "plt.tight_layout()\n",
    "plt.show()\n"
   ]
  },
  {
   "cell_type": "markdown",
   "id": "e9204d34",
   "metadata": {},
   "source": [
    "# Task 2: Cuisine Combination"
   ]
  },
  {
   "cell_type": "markdown",
   "id": "f7c56c43",
   "metadata": {},
   "source": [
    "# Identify the most common combinations of cuisines in the dataset."
   ]
  },
  {
   "cell_type": "code",
   "execution_count": 78,
   "id": "006dfb09",
   "metadata": {},
   "outputs": [],
   "source": [
    "cuisine_col = \"Cuisines\"\n",
    "rating_col = \"Aggregate rating\""
   ]
  },
  {
   "cell_type": "code",
   "execution_count": null,
   "id": "c1c131c5",
   "metadata": {},
   "outputs": [],
   "source": [
    "df_clean = df.dropna(subset=[cuisine_col, rating_col])"
   ]
  },
  {
   "cell_type": "code",
   "execution_count": 80,
   "id": "b4741366",
   "metadata": {},
   "outputs": [
    {
     "name": "stderr",
     "output_type": "stream",
     "text": [
      "C:\\Users\\joyst\\AppData\\Local\\Temp\\ipykernel_5716\\2159737575.py:2: SettingWithCopyWarning: \n",
      "A value is trying to be set on a copy of a slice from a DataFrame.\n",
      "Try using .loc[row_indexer,col_indexer] = value instead\n",
      "\n",
      "See the caveats in the documentation: https://pandas.pydata.org/pandas-docs/stable/user_guide/indexing.html#returning-a-view-versus-a-copy\n",
      "  df_clean['Cuisine Combo'] = df_clean[cuisine_col].apply(\n"
     ]
    }
   ],
   "source": [
    "# Normalize combinations: sort and strip whitespace\n",
    "df_clean['Cuisine Combo'] = df_clean[cuisine_col].apply(\n",
    "    lambda x: ', '.join(sorted([c.strip() for c in x.split(',')]))\n",
    ")"
   ]
  },
  {
   "cell_type": "code",
   "execution_count": 81,
   "id": "a552439b",
   "metadata": {},
   "outputs": [
    {
     "data": {
      "text/plain": [
       "0             Desserts, French, Japanese\n",
       "1                               Japanese\n",
       "2       Asian, Filipino, Indian, Seafood\n",
       "3                        Japanese, Sushi\n",
       "4                       Japanese, Korean\n",
       "                      ...               \n",
       "9546                             Turkish\n",
       "9547     Cafe, Patisserie, World Cuisine\n",
       "9548              Italian, World Cuisine\n",
       "9549                     Restaurant Cafe\n",
       "9550                                Cafe\n",
       "Name: Cuisine Combo, Length: 9542, dtype: object"
      ]
     },
     "execution_count": 81,
     "metadata": {},
     "output_type": "execute_result"
    }
   ],
   "source": [
    "df_clean['Cuisine Combo']"
   ]
  },
  {
   "cell_type": "code",
   "execution_count": 82,
   "id": "991ae14a",
   "metadata": {},
   "outputs": [],
   "source": [
    "# Count each cuisine combo\n",
    "combo_counts = df_clean['Cuisine Combo'].value_counts()"
   ]
  },
  {
   "cell_type": "code",
   "execution_count": 83,
   "id": "dd58456e",
   "metadata": {},
   "outputs": [
    {
     "name": "stdout",
     "output_type": "stream",
     "text": [
      "Most Common Cuisine Combination: North Indian (936 restaurants)\n"
     ]
    }
   ],
   "source": [
    "# Get the most common cuisine combination\n",
    "most_common_combo = combo_counts.idxmax()\n",
    "most_common_count = combo_counts.max()\n",
    "\n",
    "print(f\"Most Common Cuisine Combination: {most_common_combo} ({most_common_count} restaurants)\")"
   ]
  },
  {
   "cell_type": "code",
   "execution_count": 84,
   "id": "96acc7f1",
   "metadata": {},
   "outputs": [
    {
     "name": "stdout",
     "output_type": "stream",
     "text": [
      "Average Rating for 'North Indian': 1.67\n"
     ]
    }
   ],
   "source": [
    "# Calculate its average rating\n",
    "combo_avg_rating = df_clean[df_clean['Cuisine Combo'] == most_common_combo][rating_col].mean()\n",
    "print(f\"Average Rating for '{most_common_combo}': {combo_avg_rating:.2f}\")"
   ]
  },
  {
   "cell_type": "code",
   "execution_count": 85,
   "id": "06a23ef2",
   "metadata": {},
   "outputs": [
    {
     "name": "stdout",
     "output_type": "stream",
     "text": [
      "Overall Average Rating: 2.67\n"
     ]
    }
   ],
   "source": [
    "# Optional: Compare it to overall average rating\n",
    "overall_avg_rating = df_clean[rating_col].mean()\n",
    "print(f\"Overall Average Rating: {overall_avg_rating:.2f}\")"
   ]
  },
  {
   "cell_type": "code",
   "execution_count": 86,
   "id": "4b20ec64",
   "metadata": {},
   "outputs": [
    {
     "name": "stdout",
     "output_type": "stream",
     "text": [
      "This cuisine combination tends to have a lower-than-average rating.\n"
     ]
    }
   ],
   "source": [
    "# Performance comparison\n",
    "if combo_avg_rating > overall_avg_rating:\n",
    "    print(\"This cuisine combination tends to have a higher-than-average rating.\")\n",
    "elif combo_avg_rating < overall_avg_rating:\n",
    "    print(\"This cuisine combination tends to have a lower-than-average rating.\")\n",
    "else:\n",
    "    print(\"This cuisine combination has a rating equal to the overall average.\")\n"
   ]
  },
  {
   "cell_type": "code",
   "execution_count": 87,
   "id": "8a6c4b3e",
   "metadata": {},
   "outputs": [
    {
     "name": "stderr",
     "output_type": "stream",
     "text": [
      "C:\\Users\\joyst\\AppData\\Local\\Temp\\ipykernel_5716\\3907159444.py:5: SettingWithCopyWarning: \n",
      "A value is trying to be set on a copy of a slice from a DataFrame.\n",
      "Try using .loc[row_indexer,col_indexer] = value instead\n",
      "\n",
      "See the caveats in the documentation: https://pandas.pydata.org/pandas-docs/stable/user_guide/indexing.html#returning-a-view-versus-a-copy\n",
      "  df_cuisine['Cuisine Combination'] = df_cuisine['Cuisines'].apply(\n"
     ]
    },
    {
     "data": {
      "text/plain": [
       "Cuisine Combination\n",
       "North Indian                      936\n",
       "Chinese, North Indian             616\n",
       "Mughlai, North Indian             394\n",
       "Fast Food                         354\n",
       "Chinese                           354\n",
       "Chinese, Mughlai, North Indian    306\n",
       "Cafe                              299\n",
       "Bakery                            218\n",
       "Bakery, Desserts                  181\n",
       "Chinese, Fast Food                159\n",
       "Name: count, dtype: int64"
      ]
     },
     "execution_count": 87,
     "metadata": {},
     "output_type": "execute_result"
    }
   ],
   "source": [
    "# Drop rows with missing cuisine information\n",
    "df_cuisine = df.dropna(subset=['Cuisines'])\n",
    "\n",
    "# Normalize cuisine combinations (e.g., sorted, stripped of whitespace)\n",
    "df_cuisine['Cuisine Combination'] = df_cuisine['Cuisines'].apply(\n",
    "    lambda x: ', '.join(sorted([c.strip() for c in x.split(',')]))\n",
    ")\n",
    "\n",
    "# Count the most common cuisine combinations\n",
    "cuisine_counts = df_cuisine['Cuisine Combination'].value_counts().head(10)\n",
    "\n",
    "cuisine_counts\n"
   ]
  },
  {
   "cell_type": "markdown",
   "id": "397d192d",
   "metadata": {},
   "source": [
    "# Determine if certain cuisine combinations tend to have higher ratings."
   ]
  },
  {
   "cell_type": "code",
   "execution_count": 88,
   "id": "9ee245fe",
   "metadata": {},
   "outputs": [
    {
     "data": {
      "text/html": [
       "<div>\n",
       "<style scoped>\n",
       "    .dataframe tbody tr th:only-of-type {\n",
       "        vertical-align: middle;\n",
       "    }\n",
       "\n",
       "    .dataframe tbody tr th {\n",
       "        vertical-align: top;\n",
       "    }\n",
       "\n",
       "    .dataframe thead th {\n",
       "        text-align: right;\n",
       "    }\n",
       "</style>\n",
       "<table border=\"1\" class=\"dataframe\">\n",
       "  <thead>\n",
       "    <tr style=\"text-align: right;\">\n",
       "      <th></th>\n",
       "      <th>count</th>\n",
       "      <th>mean</th>\n",
       "    </tr>\n",
       "    <tr>\n",
       "      <th>Cuisine Combination</th>\n",
       "      <th></th>\n",
       "      <th></th>\n",
       "    </tr>\n",
       "  </thead>\n",
       "  <tbody>\n",
       "    <tr>\n",
       "      <th>Cafe</th>\n",
       "      <td>299</td>\n",
       "      <td>2.890970</td>\n",
       "    </tr>\n",
       "    <tr>\n",
       "      <th>Mughlai, North Indian</th>\n",
       "      <td>394</td>\n",
       "      <td>2.767259</td>\n",
       "    </tr>\n",
       "    <tr>\n",
       "      <th>Chinese, Mughlai, North Indian</th>\n",
       "      <td>306</td>\n",
       "      <td>2.619935</td>\n",
       "    </tr>\n",
       "    <tr>\n",
       "      <th>Bakery, Desserts</th>\n",
       "      <td>181</td>\n",
       "      <td>2.375691</td>\n",
       "    </tr>\n",
       "    <tr>\n",
       "      <th>Chinese, North Indian</th>\n",
       "      <td>616</td>\n",
       "      <td>2.333442</td>\n",
       "    </tr>\n",
       "    <tr>\n",
       "      <th>Fast Food</th>\n",
       "      <td>354</td>\n",
       "      <td>2.118362</td>\n",
       "    </tr>\n",
       "    <tr>\n",
       "      <th>Chinese, Fast Food</th>\n",
       "      <td>159</td>\n",
       "      <td>2.069811</td>\n",
       "    </tr>\n",
       "    <tr>\n",
       "      <th>Chinese</th>\n",
       "      <td>354</td>\n",
       "      <td>2.042090</td>\n",
       "    </tr>\n",
       "    <tr>\n",
       "      <th>Bakery</th>\n",
       "      <td>218</td>\n",
       "      <td>1.924312</td>\n",
       "    </tr>\n",
       "    <tr>\n",
       "      <th>North Indian</th>\n",
       "      <td>936</td>\n",
       "      <td>1.672329</td>\n",
       "    </tr>\n",
       "  </tbody>\n",
       "</table>\n",
       "</div>"
      ],
      "text/plain": [
       "                                count      mean\n",
       "Cuisine Combination                            \n",
       "Cafe                              299  2.890970\n",
       "Mughlai, North Indian             394  2.767259\n",
       "Chinese, Mughlai, North Indian    306  2.619935\n",
       "Bakery, Desserts                  181  2.375691\n",
       "Chinese, North Indian             616  2.333442\n",
       "Fast Food                         354  2.118362\n",
       "Chinese, Fast Food                159  2.069811\n",
       "Chinese                           354  2.042090\n",
       "Bakery                            218  1.924312\n",
       "North Indian                      936  1.672329"
      ]
     },
     "execution_count": 88,
     "metadata": {},
     "output_type": "execute_result"
    }
   ],
   "source": [
    "avg_ratings = (\n",
    "    df_cuisine.groupby('Cuisine Combination')['Aggregate rating']\n",
    "    .agg(['count', 'mean'])\n",
    "    .sort_values(by='mean', ascending=False)\n",
    ")\n",
    "\n",
    "# Filter to show only the top 10 most common combinations\n",
    "common_combos = cuisine_counts.index\n",
    "avg_ratings_common = avg_ratings.loc[common_combos].sort_values(by='mean', ascending=False)\n",
    "\n",
    "avg_ratings_common\n"
   ]
  },
  {
   "cell_type": "code",
   "execution_count": 89,
   "id": "3479e5ec",
   "metadata": {},
   "outputs": [
    {
     "name": "stderr",
     "output_type": "stream",
     "text": [
      "C:\\Users\\joyst\\AppData\\Local\\Temp\\ipykernel_5716\\3658045418.py:3: FutureWarning: \n",
      "\n",
      "Passing `palette` without assigning `hue` is deprecated and will be removed in v0.14.0. Assign the `y` variable to `hue` and set `legend=False` for the same effect.\n",
      "\n",
      "  sns.barplot(\n"
     ]
    },
    {
     "data": {
      "image/png": "[encoded data removed]",
      "text/plain": [
       "<Figure size 1000x600 with 1 Axes>"
      ]
     },
     "metadata": {},
     "output_type": "display_data"
    }
   ],
   "source": [
    "# Set plot style\n",
    "plt.figure(figsize=(10, 6))\n",
    "sns.barplot(\n",
    "    x=avg_ratings_common['mean'],\n",
    "    y=avg_ratings_common.index,\n",
    "    palette=\"viridis\"\n",
    ")\n",
    "\n",
    "plt.title('Average Ratings of Top Cuisine Combinations')\n",
    "plt.xlabel('Average Rating')\n",
    "plt.ylabel('Cuisine Combination')\n",
    "plt.xlim(0, 5)\n",
    "plt.grid(axis='x', linestyle='--', alpha=0.5)\n",
    "plt.tight_layout()\n",
    "plt.show()\n"
   ]
  },
  {
   "cell_type": "markdown",
   "id": "49adcb8f",
   "metadata": {},
   "source": [
    "# Level 2"
   ]
  },
  {
   "cell_type": "markdown",
   "id": "4f484fce",
   "metadata": {},
   "source": [
    "# Task 3: Geographic Analysis"
   ]
  },
  {
   "cell_type": "markdown",
   "id": "80428a47",
   "metadata": {},
   "source": [
    "# Identify any patterns or clusters of restaurants in specific areas."
   ]
  },
  {
   "cell_type": "code",
   "execution_count": null,
   "id": "4c6e8b74",
   "metadata": {},
   "outputs": [],
   "source": [
    "df = df.dropna(subset=['Latitude', 'Longitude'])"
   ]
  },
  {
   "cell_type": "code",
   "execution_count": 91,
   "id": "0d55c329",
   "metadata": {},
   "outputs": [],
   "source": [
    "# Convert to float in case data is string\n",
    "df['Latitude'] = df['Latitude'].astype(float)\n",
    "df['Longitude'] = df['Longitude'].astype(float)"
   ]
  },
  {
   "cell_type": "code",
   "execution_count": null,
   "id": "5b21623b",
   "metadata": {},
   "outputs": [],
   "source": [
    "# Center map around average coordinates\n",
    "map_center = [df['Latitude'].mean(), df['Longitude'].mean()]\n",
    "restaurant_map = folium.Map(location=map_center, zoom_start=12)\n"
   ]
  },
  {
   "cell_type": "code",
   "execution_count": 93,
   "id": "a5f4b6ed",
   "metadata": {},
   "outputs": [],
   "source": [
    "# Add points to the map\n",
    "for _, row in df.iterrows():\n",
    "    folium.CircleMarker(\n",
    "        location=[row['Latitude'], row['Longitude']],\n",
    "        radius=2,\n",
    "        color='blue',\n",
    "        fill=True,\n",
    "        fill_opacity=0.5\n",
    "    ).add_to(restaurant_map)"
   ]
  },
  {
   "cell_type": "code",
   "execution_count": 94,
   "id": "2063ea40",
   "metadata": {},
   "outputs": [
    {
     "name": "stdout",
     "output_type": "stream",
     "text": [
      "Map saved as restaurant_map.html\n"
     ]
    }
   ],
   "source": [
    "# Save map to HTML\n",
    "restaurant_map.save(\"restaurant_map.html\")\n",
    "print(\"Map saved as restaurant_map.html\")"
   ]
  },
  {
   "cell_type": "code",
   "execution_count": 95,
   "id": "7d713222",
   "metadata": {},
   "outputs": [],
   "source": [
    "# Step 2: Identify clusters with DBSCAN\n",
    "coords = df[['Latitude', 'Longitude']].values\n",
    "kms_per_radian = 6371.0088\n",
    "epsilon = 0.5 / kms_per_radian  # ~0.5 km radius\n"
   ]
  },
  {
   "cell_type": "code",
   "execution_count": 96,
   "id": "8b2ed379",
   "metadata": {},
   "outputs": [],
   "source": [
    "# Perform DBSCAN clustering\n",
    "db = DBSCAN(eps=epsilon, min_samples=10, algorithm='ball_tree', metric='haversine')\n",
    "df['Cluster'] = db.fit_predict(np.radians(coords))"
   ]
  },
  {
   "cell_type": "markdown",
   "id": "453eaeea",
   "metadata": {},
   "source": [
    "# Plot the locations of restaurants on a map using longitude and latitude coordinates."
   ]
  },
  {
   "cell_type": "code",
   "execution_count": 97,
   "id": "2b97fa87",
   "metadata": {},
   "outputs": [
    {
     "data": {
      "image/png": "[encoded data removed]",
      "text/plain": [
       "<Figure size 1000x600 with 2 Axes>"
      ]
     },
     "metadata": {},
     "output_type": "display_data"
    }
   ],
   "source": [
    "# Plot clusters using matplotlib\n",
    "plt.figure(figsize=(10, 6))\n",
    "scatter = plt.scatter(df['Longitude'], df['Latitude'], c=df['Cluster'], cmap='tab10', s=10)\n",
    "plt.title(\"Restaurant Clusters\")\n",
    "plt.xlabel(\"Longitude\")\n",
    "plt.ylabel(\"Latitude\")\n",
    "plt.colorbar(scatter, label='Cluster')\n",
    "plt.show()"
   ]
  },
  {
   "cell_type": "markdown",
   "id": "9b5d273e",
   "metadata": {},
   "source": [
    "# Task 4: Restaurant Chains"
   ]
  },
  {
   "cell_type": "markdown",
   "id": "f273d21f",
   "metadata": {},
   "source": [
    "# Identify if there are any restaurant chains present in the dataset."
   ]
  },
  {
   "cell_type": "code",
   "execution_count": 98,
   "id": "16eb6af1",
   "metadata": {},
   "outputs": [],
   "source": [
    "name_col = \"Restaurant Name\"\n",
    "rating_col = \"Aggregate rating\"\n",
    "votes_col = \"Votes\"\n"
   ]
  },
  {
   "cell_type": "code",
   "execution_count": 99,
   "id": "2f84a7eb",
   "metadata": {},
   "outputs": [],
   "source": [
    "# Drop missing values in necessary columns\n",
    "df_clean = df.dropna(subset=[name_col, rating_col, votes_col])"
   ]
  },
  {
   "cell_type": "code",
   "execution_count": 100,
   "id": "f9af6b8e",
   "metadata": {},
   "outputs": [
    {
     "name": "stdout",
     "output_type": "stream",
     "text": [
      "Number of restaurant chains: 734\n"
     ]
    }
   ],
   "source": [
    "# Step 1: Identify restaurant chains (same name appearing more than once)\n",
    "chain_counts = df_clean[name_col].value_counts()\n",
    "restaurant_chains = chain_counts[chain_counts > 1].index\n",
    "print(f\"Number of restaurant chains: {len(restaurant_chains)}\")"
   ]
  },
  {
   "cell_type": "markdown",
   "id": "8af59ced",
   "metadata": {},
   "source": [
    "# Analyze the ratings and popularity of different restaurant chains."
   ]
  },
  {
   "cell_type": "code",
   "execution_count": 101,
   "id": "a07c0f48",
   "metadata": {},
   "outputs": [],
   "source": [
    "# Filter only restaurant chains\n",
    "chain_data = df_clean[df_clean[name_col].isin(restaurant_chains)]"
   ]
  },
  {
   "cell_type": "code",
   "execution_count": 102,
   "id": "6cc689af",
   "metadata": {},
   "outputs": [
    {
     "name": "stdout",
     "output_type": "stream",
     "text": [
      "Top Restaurant Chains with Ratings and Popularity:\n",
      "\n",
      "                  Branches  Average_Rating  Average_Votes\n",
      "Restaurant Name                                          \n",
      "Cafe Coffee Day         83        2.419277      29.253012\n",
      "Domino's Pizza          79        2.740506      84.088608\n",
      "Subway                  63        2.907937      97.206349\n",
      "Green Chick Chop        51        2.672549      18.901961\n",
      "McDonald's              48        3.339583     110.229167\n",
      "Keventers               34        2.870588      37.147059\n",
      "Pizza Hut               30        3.320000     165.366667\n",
      "Giani                   29        2.689655      29.448276\n",
      "Baskin Robbins          28        1.860714      15.285714\n",
      "Barbeque Nation         26        4.353846    1082.384615\n"
     ]
    }
   ],
   "source": [
    "# Step 2: Analyze average rating and popularity\n",
    "chain_stats = chain_data.groupby(name_col).agg(\n",
    "    Branches=('Restaurant Name', 'count'),\n",
    "    Average_Rating=(rating_col, 'mean'),\n",
    "    Average_Votes=(votes_col, 'mean')\n",
    ").sort_values(by='Branches', ascending=False)\n",
    "\n",
    "print(\"Top Restaurant Chains with Ratings and Popularity:\\n\")\n",
    "print(chain_stats.head(10))\n"
   ]
  }
 ],
 "metadata": {
  "kernelspec": {
   "display_name": "Python 3",
   "language": "python",
   "name": "python3"
  },
  "language_info": {
   "codemirror_mode": {
    "name": "ipython",
    "version": 3
   },
   "file_extension": ".py",
   "mimetype": "text/x-python",
   "name": "python",
   "nbconvert_exporter": "python",
   "pygments_lexer": "ipython3",
   "version": "3.12.0"
  }
 },
 "nbformat": 4,
 "nbformat_minor": 5
}
